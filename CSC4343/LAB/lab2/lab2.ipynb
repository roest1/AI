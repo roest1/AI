{
  "cells": [
    {
      "cell_type": "code",
      "execution_count": 1,
      "metadata": {
        "colab": {
          "base_uri": "https://localhost:8080/"
        },
        "id": "T1LV7izNa82D",
        "outputId": "2e8263df-e7c0-477f-cd2a-260b1bcf0ec4"
      },
      "outputs": [
        {
          "name": "stdout",
          "output_type": "stream",
          "text": [
            "%pylab is deprecated, use %matplotlib inline and import the required libraries.\n",
            "Populating the interactive namespace from numpy and matplotlib\n"
          ]
        }
      ],
      "source": [
        "%pylab inline"
      ]
    },
    {
      "cell_type": "code",
      "execution_count": 2,
      "metadata": {
        "id": "nDR5ILDmaF1I"
      },
      "outputs": [],
      "source": [
        "import torch, torchvision\n",
        "import torchvision.transforms as transforms"
      ]
    },
    {
      "cell_type": "markdown",
      "metadata": {
        "id": "RtxDmxngrhE0"
      },
      "source": [
        "### Make sure your runtime type is either GPU or TPU"
      ]
    },
    {
      "cell_type": "code",
      "execution_count": 3,
      "metadata": {
        "colab": {
          "base_uri": "https://localhost:8080/"
        },
        "id": "BGznYvxIIvjy",
        "outputId": "1bfe49ae-9032-47b6-c2e2-8c314b00a629"
      },
      "outputs": [
        {
          "name": "stdout",
          "output_type": "stream",
          "text": [
            "Downloading https://www.cs.toronto.edu/~kriz/cifar-10-python.tar.gz to ./data/cifar-10-python.tar.gz\n"
          ]
        },
        {
          "name": "stderr",
          "output_type": "stream",
          "text": [
            "100%|██████████| 170498071/170498071 [00:55<00:00, 3069555.58it/s]\n"
          ]
        },
        {
          "name": "stdout",
          "output_type": "stream",
          "text": [
            "Extracting ./data/cifar-10-python.tar.gz to ./data\n",
            "Files already downloaded and verified\n"
          ]
        }
      ],
      "source": [
        "transform = transforms.Compose([transforms.ToTensor(),\n",
        "     transforms.Normalize((0.5, 0.5, 0.5), (0.5, 0.5, 0.5))])\n",
        "\n",
        "batch_size = 128\n",
        "\n",
        "trainset = torchvision.datasets.CIFAR10(root='./data', train=True,\n",
        "                                        download=True, transform=transform)\n",
        "trainloader = torch.utils.data.DataLoader(trainset, batch_size=batch_size,\n",
        "                                          shuffle=True, num_workers=2)\n",
        "\n",
        "testset = torchvision.datasets.CIFAR10(root='./data', train=False,\n",
        "                                       download=True, transform=transform)\n",
        "testloader = torch.utils.data.DataLoader(testset, batch_size=batch_size,\n",
        "                                         shuffle=False, num_workers=2)"
      ]
    },
    {
      "cell_type": "markdown",
      "metadata": {
        "id": "LO3K14JN3pG-"
      },
      "source": [
        "The list of class names in the dataset"
      ]
    },
    {
      "cell_type": "code",
      "execution_count": 4,
      "metadata": {
        "id": "aM0CAgNwUUX0"
      },
      "outputs": [],
      "source": [
        "classes = ['airplane', 'automobile', 'bird', 'cat', 'deer', 'dog', 'frog', 'horse', 'ship', 'truck']"
      ]
    },
    {
      "cell_type": "code",
      "execution_count": 5,
      "metadata": {
        "colab": {
          "base_uri": "https://localhost:8080/",
          "height": 441
        },
        "id": "0T8CNxqxbBTM",
        "outputId": "f83771d2-5aec-44f5-af19-c0e357f48a05"
      },
      "outputs": [
        {
          "name": "stdout",
          "output_type": "stream",
          "text": [
            "torch.Size([128, 3, 32, 32]) torch.Size([128])\n",
            "automobile\n"
          ]
        },
        {
          "data": {
            "image/png": "[encoded data removed]",
            "text/plain": [
              "<Figure size 640x480 with 1 Axes>"
            ]
          },
          "metadata": {},
          "output_type": "display_data"
        }
      ],
      "source": [
        "dataiter = iter(trainloader)\n",
        "images, labels = next(dataiter)\n",
        "\n",
        "print(images.size(), labels.size())\n",
        "\n",
        "i = 12\n",
        "imshow(images[i].permute([1, 2, 0]).numpy()/2 + .5)\n",
        "axis('off')\n",
        "print(classes[labels[i].item()])"
      ]
    },
    {
      "cell_type": "markdown",
      "metadata": {
        "id": "hQO9KblUpw0L"
      },
      "source": [
        "\n",
        "\n",
        "---\n",
        "\n"
      ]
    },
    {
      "cell_type": "markdown",
      "metadata": {
        "id": "aQdxxgWClBns"
      },
      "source": [
        "## Task 1\n",
        "Build a neural network with two *Linear* layers and an output layer. The first Linear layer should have 512 neurons and the second 128 neurons. Both layers should use *relu* activation function. After each of these *Linear* layers, you should have a *dropout* layer (torch.nn.Dropout) with dropout probability 0.2. The output layer\n",
        "should be a *Linear* layer.\n",
        "\n",
        "Use torch.nn.CrossEntropyLoss to compute the loss value of the model output. Use *adam* optimizer to update the model parameters when training the model."
      ]
    },
    {
      "cell_type": "code",
      "execution_count": 25,
      "metadata": {
        "id": "pwrN_8WJXbR_"
      },
      "outputs": [],
      "source": [
        "\n",
        "class NeuralNet(torch.nn.Module):\n",
        "    def __init__(self):\n",
        "        super(NeuralNet, self).__init__()\n",
        "        self.flatten = torch.nn.Flatten()\n",
        "        self.fc1 = torch.nn.Linear(32*32*3, 512)  \n",
        "        self.dropout1 = torch.nn.Dropout(0.2)    \n",
        "        self.fc2 = torch.nn.Linear(512, 128)     \n",
        "        self.dropout2 = torch.nn.Dropout(0.2)    \n",
        "        self.fc3 = torch.nn.Linear(128, 10)      \n",
        "\n",
        "    def forward(self, x):\n",
        "        x = self.flatten(x)        \n",
        "        x = torch.nn.functional.relu(self.fc1(x))    \n",
        "        x = self.dropout1(x)       \n",
        "        x = torch.nn.functional.relu(self.fc2(x))\n",
        "        x = self.dropout2(x)\n",
        "        x = self.fc3(x)     \n",
        "        return x\n",
        "\n",
        "nn = NeuralNet()\n",
        "\n",
        "criterion = torch.nn.CrossEntropyLoss()\n",
        "optimizer = torch.optim.Adam(nn.parameters(), lr=0.001)"
      ]
    },
    {
      "cell_type": "markdown",
      "metadata": {
        "id": "NrboiPkOmko8"
      },
      "source": [
        "## Task 2\n",
        "Train the model for 50 epochs. Evaluate the model on the testing data. Print out the model accuracy on test data after the training."
      ]
    },
    {
      "cell_type": "code",
      "execution_count": 26,
      "metadata": {
        "id": "hUyvcurvU2l1"
      },
      "outputs": [
        {
          "name": "stdout",
          "output_type": "stream",
          "text": [
            "Accuracy = 50.9%\n"
          ]
        }
      ],
      "source": [
        "num_epochs = 50\n",
        "for epoch in range(num_epochs):\n",
        "    running_loss = 0.0\n",
        "    for i, data in enumerate(trainloader, 0):\n",
        "        inputs, labels = data\n",
        "\n",
        "        optimizer.zero_grad()\n",
        "\n",
        "        outputs = nn(inputs)\n",
        "        loss = criterion(outputs, labels)\n",
        "        loss.backward()\n",
        "        optimizer.step()\n",
        "\n",
        "        running_loss += loss.item()\n",
        "\n",
        "correct = 0\n",
        "total = 0\n",
        "with torch.no_grad():\n",
        "\n",
        "    for data in testloader:\n",
        "        images, labels = data\n",
        "        outputs = nn(images)\n",
        "        _, predicted = torch.max(outputs.data, 1)\n",
        "        total += labels.size(0)\n",
        "        correct += (predicted == labels).sum().item()\n",
        "\n",
        "print(f'Accuracy = {100 * (correct/total)}%')"
      ]
    },
    {
      "cell_type": "markdown",
      "metadata": {
        "id": "gNYU1ulpnyyU"
      },
      "source": [
        "## Task 3\n",
        "Implement a function *recognize*. It takes an image (shape = 3, 32, 32) as an input and use the \"model\" you trained above to make a prediction of the image's class. Your function should return the predicted (string) class (use the classes list above to map numeric prediction to string label)."
      ]
    },
    {
      "cell_type": "code",
      "execution_count": 19,
      "metadata": {
        "id": "T8AExaK5OGu4"
      },
      "outputs": [
        {
          "name": "stdout",
          "output_type": "stream",
          "text": [
            "Neural network recognizes this image as: cat\n",
            "true image label: cat\n"
          ]
        },
        {
          "data": {
            "text/plain": [
              "(-0.5, 31.5, 31.5, -0.5)"
            ]
          },
          "execution_count": 19,
          "metadata": {},
          "output_type": "execute_result"
        },
        {
          "data": {
            "image/png": "[encoded data removed]",
            "text/plain": [
              "<Figure size 640x480 with 1 Axes>"
            ]
          },
          "metadata": {},
          "output_type": "display_data"
        }
      ],
      "source": [
        "def recognize(new_img):\n",
        "    new_img = new_img.unsqueeze(0)\n",
        "    output = nn(new_img)\n",
        "    _, predicted = torch.max(output, 1)\n",
        "    predicted_class = classes[predicted.item()]\n",
        "    return predicted_class\n",
        "\n",
        "dataiter = iter(testloader)\n",
        "images, labels = next(dataiter)\n",
        "new_img = images[0]\n",
        "nn.to('cpu')\n",
        "pred = recognize(new_img)\n",
        "\n",
        "print('Neural network recognizes this image as:', pred)\n",
        "print('true image label:', classes[labels[0].item()])\n",
        "imshow(new_img.permute([1, 2, 0]).numpy()/2 + .5)\n",
        "axis('off')"
      ]
    },
    {
      "cell_type": "markdown",
      "metadata": {
        "id": "H8b3EktNs5Ek"
      },
      "source": [
        "### Task 4\n",
        "\n",
        "Implement a CNN with the following structure:\n",
        "- 4 Conv layers:  \n",
        "(3x3)x32, (3x3)x32, (3x3)x64, (3x3)x64\n",
        "\n",
        "- 2x2 Maxpool after 2nd and 4th conv.\n",
        "- Dropout after pooling\n",
        "- One FC layer and then a FC output layer\n",
        "\n",
        "Train the CNN model until training accuracy converges.\n",
        "(Compute accuracy on training data at the end of each epoch. Plot the accuracy values vs epochs to determine whether it converges.) Test the accuracy of the trained model on the testing dataset."
      ]
    },
    {
      "cell_type": "code",
      "execution_count": 22,
      "metadata": {
        "id": "yMnZlSnUwuh6"
      },
      "outputs": [],
      "source": [
        "\n",
        "class CNN(torch.nn.Module):\n",
        "    def __init__(self):\n",
        "        super(CNN, self).__init__()\n",
        "        self.conv1 = torch.nn.Conv2d(3, 32, kernel_size=3, padding=1)\n",
        "        self.conv2 = torch.nn.Conv2d(32, 32, kernel_size=3, padding=1)\n",
        "        self.pool1 = torch.nn.MaxPool2d(kernel_size=2, stride=2)\n",
        "        self.dropout1 = torch.nn.Dropout(0.25)\n",
        "\n",
        "        self.conv3 = torch.nn.Conv2d(32, 64, kernel_size=3, padding=1)\n",
        "        self.conv4 = torch.nn.Conv2d(64, 64, kernel_size=3, padding=1)\n",
        "        self.pool2 = torch.nn.MaxPool2d(kernel_size=2, stride=2)\n",
        "        self.dropout2 = torch.nn.Dropout(0.25)\n",
        "\n",
        "        self.fc1 = torch.nn.Linear(64 * 8 * 8, 512)\n",
        "        self.fc2 = torch.nn.Linear(512, 10) \n",
        "\n",
        "    def forward(self, x):\n",
        "        x = torch.nn.functional.relu(self.conv1(x))\n",
        "        x = torch.nn.functional.relu(self.conv2(x))\n",
        "        x = self.pool1(x)\n",
        "        x = self.dropout1(x)\n",
        "\n",
        "        x = torch.nn.functional.relu(self.conv3(x))\n",
        "        x = torch.nn.functional.relu(self.conv4(x))\n",
        "        x = self.pool2(x)\n",
        "        x = self.dropout2(x)\n",
        "\n",
        "        x = x.view(-1, 64 * 8 * 8)  \n",
        "        x = torch.nn.functional.relu(self.fc1(x))\n",
        "        x = self.fc2(x)\n",
        "        return x\n",
        "\n",
        "cnn = CNN()\n",
        "cnn.to('cpu')\n",
        "\n",
        "\n",
        "optimizer = torch.optim.Adam(cnn.parameters(), lr=0.001)\n",
        "criterion = torch.nn.CrossEntropyLoss()"
      ]
    },
    {
      "cell_type": "code",
      "execution_count": 23,
      "metadata": {},
      "outputs": [
        {
          "name": "stdout",
          "output_type": "stream",
          "text": [
            "Epoch 1, Accuracy: 46.3%\n",
            "Epoch 2, Accuracy: 62.392%\n",
            "Epoch 3, Accuracy: 69.838%\n",
            "Epoch 4, Accuracy: 75.186%\n",
            "Epoch 5, Accuracy: 78.602%\n",
            "Epoch 6, Accuracy: 82.082%\n",
            "Epoch 7, Accuracy: 85.116%\n",
            "Epoch 8, Accuracy: 87.724%\n",
            "Epoch 9, Accuracy: 89.718%\n",
            "Epoch 10, Accuracy: 91.184%\n",
            "Epoch 11, Accuracy: 92.86%\n",
            "Epoch 12, Accuracy: 93.632%\n",
            "Epoch 13, Accuracy: 94.642%\n",
            "Epoch 14, Accuracy: 95.056%\n",
            "Epoch 15, Accuracy: 95.354%\n",
            "Epoch 16, Accuracy: 95.784%\n",
            "Epoch 17, Accuracy: 96.05%\n",
            "Epoch 18, Accuracy: 96.348%\n",
            "Epoch 19, Accuracy: 96.402%\n",
            "Epoch 20, Accuracy: 96.588%\n"
          ]
        },
        {
          "data": {
            "image/png": "[encoded data removed]",
            "text/plain": [
              "<Figure size 640x480 with 1 Axes>"
            ]
          },
          "metadata": {},
          "output_type": "display_data"
        }
      ],
      "source": [
        "import matplotlib.pyplot as plt\n",
        "\n",
        "epochs = 20\n",
        "train_accuracy = []\n",
        "\n",
        "for epoch in range(epochs):\n",
        "    correct = 0\n",
        "    total = 0\n",
        "    for data in trainloader:\n",
        "        inputs, labels = data[0].to('cpu'), data[1].to('cpu')\n",
        "        optimizer.zero_grad()\n",
        "        outputs = cnn(inputs)\n",
        "        loss = criterion(outputs, labels)\n",
        "        loss.backward()\n",
        "        optimizer.step()\n",
        "\n",
        "        _, predicted = torch.max(outputs.data, 1)\n",
        "        total += labels.size(0)\n",
        "        correct += (predicted == labels).sum().item()\n",
        "\n",
        "    accuracy = 100 * correct / total\n",
        "    train_accuracy.append(accuracy)\n",
        "    print(f'Epoch {epoch+1}, Accuracy: {accuracy}%')\n",
        "\n",
        "\n",
        "plt.plot(range(1, epochs+1), train_accuracy)\n",
        "plt.xlabel('Epoch')\n",
        "plt.ylabel('Training Accuracy (%)')\n",
        "plt.title('Training Accuracy vs. Epochs')\n",
        "plt.show()"
      ]
    },
    {
      "cell_type": "code",
      "execution_count": 24,
      "metadata": {},
      "outputs": [
        {
          "name": "stdout",
          "output_type": "stream",
          "text": [
            "Accuracy = 73.68%\n"
          ]
        }
      ],
      "source": [
        "correct = 0\n",
        "total = 0\n",
        "with torch.no_grad():\n",
        "    for data in testloader:\n",
        "        images, labels = data[0].to('cpu'), data[1].to('cpu')\n",
        "        outputs = cnn(images)\n",
        "        _, predicted = torch.max(outputs.data, 1)\n",
        "        total += labels.size(0)\n",
        "        correct += (predicted == labels).sum().item()\n",
        "\n",
        "print(f'Accuracy = {100 * (correct/total)}%')"
      ]
    }
  ],
  "metadata": {
    "accelerator": "GPU",
    "colab": {
      "provenance": []
    },
    "kernelspec": {
      "display_name": "Python 3",
      "language": "python",
      "name": "python3"
    },
    "language_info": {
      "codemirror_mode": {
        "name": "ipython",
        "version": 3
      },
      "file_extension": ".py",
      "mimetype": "text/x-python",
      "name": "python",
      "nbconvert_exporter": "python",
      "pygments_lexer": "ipython3",
      "version": "3.8.16"
    }
  },
  "nbformat": 4,
  "nbformat_minor": 0
}
