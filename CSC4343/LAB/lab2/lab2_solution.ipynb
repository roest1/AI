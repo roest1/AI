{
  "cells": [
    {
      "cell_type": "code",
      "execution_count": null,
      "metadata": {
        "colab": {
          "base_uri": "https://localhost:8080/"
        },
        "id": "T1LV7izNa82D",
        "outputId": "15c35b07-9719-4d3d-f8f2-cd46c5604182"
      },
      "outputs": [
        {
          "output_type": "stream",
          "name": "stdout",
          "text": [
            "Populating the interactive namespace from numpy and matplotlib\n"
          ]
        }
      ],
      "source": [
        "%pylab inline"
      ]
    },
    {
      "cell_type": "code",
      "execution_count": null,
      "metadata": {
        "id": "nDR5ILDmaF1I"
      },
      "outputs": [],
      "source": [
        "import torch, torchvision\n",
        "import torchvision.transforms as transforms"
      ]
    },
    {
      "cell_type": "markdown",
      "metadata": {
        "id": "RtxDmxngrhE0"
      },
      "source": [
        "### Make sure your runtime type is either GPU or TPU"
      ]
    },
    {
      "cell_type": "code",
      "execution_count": null,
      "metadata": {
        "colab": {
          "base_uri": "https://localhost:8080/"
        },
        "id": "BGznYvxIIvjy",
        "outputId": "f4066389-ee2b-4233-96b1-75b1ff92a05a"
      },
      "outputs": [
        {
          "output_type": "stream",
          "name": "stdout",
          "text": [
            "Files already downloaded and verified\n",
            "Files already downloaded and verified\n"
          ]
        }
      ],
      "source": [
        "transform = transforms.Compose([transforms.ToTensor(),\n",
        "     transforms.Normalize((0.5, 0.5, 0.5), (0.5, 0.5, 0.5))])\n",
        "\n",
        "batch_size = 128\n",
        "\n",
        "trainset = torchvision.datasets.CIFAR10(root='./data', train=True,\n",
        "                                        download=True, transform=transform)\n",
        "trainloader = torch.utils.data.DataLoader(trainset, batch_size=batch_size,\n",
        "                                          shuffle=True, num_workers=2)\n",
        "\n",
        "testset = torchvision.datasets.CIFAR10(root='./data', train=False,\n",
        "                                       download=True, transform=transform)\n",
        "testloader = torch.utils.data.DataLoader(testset, batch_size=batch_size,\n",
        "                                         shuffle=False, num_workers=2)"
      ]
    },
    {
      "cell_type": "markdown",
      "source": [
        "The list of class names in the dataset"
      ],
      "metadata": {
        "id": "VaHUWcQS3ZD8"
      }
    },
    {
      "cell_type": "code",
      "execution_count": null,
      "metadata": {
        "id": "aM0CAgNwUUX0"
      },
      "outputs": [],
      "source": [
        "classes = ['airplane', 'automobile', 'bird', 'cat', 'deer', 'dog', 'frog', 'horse', 'ship', 'truck']"
      ]
    },
    {
      "cell_type": "code",
      "execution_count": null,
      "metadata": {
        "colab": {
          "base_uri": "https://localhost:8080/",
          "height": 441
        },
        "id": "0T8CNxqxbBTM",
        "outputId": "4b9d8c95-7632-4796-de7b-ffb45b8213b3"
      },
      "outputs": [
        {
          "output_type": "stream",
          "name": "stdout",
          "text": [
            "torch.Size([128, 3, 32, 32]) torch.Size([128])\n",
            "cat\n"
          ]
        },
        {
          "output_type": "display_data",
          "data": {
            "text/plain": [
              "<Figure size 640x480 with 1 Axes>"
            ],
            "image/png": "[encoded data removed]"
          },
          "metadata": {}
        }
      ],
      "source": [
        "dataiter = iter(trainloader)\n",
        "images, labels = next(dataiter)\n",
        "\n",
        "print(images.size(), labels.size())\n",
        "\n",
        "i = 12\n",
        "imshow(images[i].permute([1, 2, 0]).numpy()/2 + .5)\n",
        "axis('off')\n",
        "print(classes[labels[i].item()])"
      ]
    },
    {
      "cell_type": "markdown",
      "metadata": {
        "id": "hQO9KblUpw0L"
      },
      "source": [
        "\n",
        "\n",
        "---\n",
        "\n"
      ]
    },
    {
      "cell_type": "markdown",
      "metadata": {
        "id": "aQdxxgWClBns"
      },
      "source": [
        "## Task 1\n",
        "Build a neural network with two *Linear* layers and an output layer. The first Linear layer should have 512 neurons and the second 128 neurons. Both layers should use *relu* activation function. After each of these *Linear* layers, you should have a *dropout* layer (torch.nn.Dropout) with dropout probability 0.2. The output layer\n",
        "should be a *Linear* layer.\n",
        "\n",
        "Use torch.nn.CrossEntropyLoss to compute the loss value of the model output. Use *adam* optimizer to update the model parameters when training the model."
      ]
    },
    {
      "cell_type": "code",
      "execution_count": null,
      "metadata": {
        "id": "pwrN_8WJXbR_"
      },
      "outputs": [],
      "source": [
        "model = torch.nn.Sequential(\n",
        "  torch.nn.Flatten(),\n",
        "  torch.nn.Linear(32*32*3, 512),\n",
        "  torch.nn.ReLU(),\n",
        "  torch.nn.Dropout(0.2),\n",
        "  torch.nn.Linear(512, 128),\n",
        "  torch.nn.ReLU(),\n",
        "  torch.nn.Dropout(0.2),\n",
        "  torch.nn.Linear(128, 10)\n",
        ").cuda(0)\n",
        "\n",
        "\n",
        "loss_func = torch.nn.CrossEntropyLoss()\n",
        "optimizer = torch.optim.Adam(model.parameters(), lr=0.0001)"
      ]
    },
    {
      "cell_type": "markdown",
      "metadata": {
        "id": "NrboiPkOmko8"
      },
      "source": [
        "## Task 2\n",
        "Train the model for 50 epochs. Evaluate the model on the testing data. Print out the model accuracy on test data after the training."
      ]
    },
    {
      "cell_type": "code",
      "execution_count": null,
      "metadata": {
        "id": "hUyvcurvU2l1",
        "colab": {
          "base_uri": "https://localhost:8080/"
        },
        "outputId": "a1b765c7-1bf4-400a-b1fb-865a3adb2652"
      },
      "outputs": [
        {
          "output_type": "stream",
          "name": "stdout",
          "text": [
            "epoch: 1 loss: 54.204\n",
            "epoch: 2 loss: 48.174\n",
            "epoch: 3 loss: 45.727\n",
            "epoch: 4 loss: 43.949\n",
            "epoch: 5 loss: 42.505\n",
            "epoch: 6 loss: 41.386\n",
            "epoch: 7 loss: 40.296\n",
            "epoch: 8 loss: 39.341\n",
            "epoch: 9 loss: 38.427\n",
            "epoch: 10 loss: 37.553\n",
            "epoch: 11 loss: 36.883\n",
            "epoch: 12 loss: 36.212\n",
            "epoch: 13 loss: 35.386\n",
            "epoch: 14 loss: 34.764\n",
            "epoch: 15 loss: 34.149\n",
            "epoch: 16 loss: 33.460\n",
            "epoch: 17 loss: 32.989\n",
            "epoch: 18 loss: 32.374\n",
            "epoch: 19 loss: 31.782\n",
            "epoch: 20 loss: 31.403\n",
            "epoch: 21 loss: 30.733\n",
            "epoch: 22 loss: 30.174\n",
            "epoch: 23 loss: 29.739\n",
            "epoch: 24 loss: 29.257\n",
            "epoch: 25 loss: 28.780\n",
            "epoch: 26 loss: 28.225\n",
            "epoch: 27 loss: 27.896\n",
            "epoch: 28 loss: 27.322\n",
            "epoch: 29 loss: 26.974\n",
            "epoch: 30 loss: 26.532\n",
            "epoch: 31 loss: 26.235\n",
            "epoch: 32 loss: 25.771\n",
            "epoch: 33 loss: 25.322\n",
            "epoch: 34 loss: 24.921\n",
            "epoch: 35 loss: 24.467\n",
            "epoch: 36 loss: 24.218\n",
            "epoch: 37 loss: 23.713\n",
            "epoch: 38 loss: 23.402\n",
            "epoch: 39 loss: 22.928\n",
            "epoch: 40 loss: 22.726\n",
            "epoch: 41 loss: 22.333\n",
            "epoch: 42 loss: 22.034\n",
            "epoch: 43 loss: 21.796\n",
            "epoch: 44 loss: 21.488\n",
            "epoch: 45 loss: 21.024\n",
            "epoch: 46 loss: 20.857\n",
            "epoch: 47 loss: 20.402\n",
            "epoch: 48 loss: 20.178\n",
            "epoch: 49 loss: 19.892\n",
            "epoch: 50 loss: 19.600\n"
          ]
        }
      ],
      "source": [
        "def train_epoch(model, loss_func, optimizer, trainloader):\n",
        "    running_loss = 0.0\n",
        "    for inputs, labels in trainloader:\n",
        "        # train with one batch\n",
        "        optimizer.zero_grad()\n",
        "        outputs = model(inputs.cuda(0))\n",
        "        loss = loss_func(outputs, labels.cuda(0))\n",
        "        loss.backward()\n",
        "        optimizer.step()\n",
        "\n",
        "        running_loss += loss.item()\n",
        "    return running_loss\n",
        "\n",
        "\n",
        "\n",
        "for epoch in range(50):\n",
        "    running_loss = train_epoch(model, loss_func, optimizer, trainloader)\n",
        "    print(f'epoch: {epoch + 1} loss: {running_loss/(i+1):.3f}')"
      ]
    },
    {
      "cell_type": "code",
      "source": [
        "def compute_acc(model, dloader):\n",
        "    score = 0\n",
        "    n = 0\n",
        "    model.eval()\n",
        "    with torch.no_grad():\n",
        "        for inputs, labels in dloader:\n",
        "            outputs = model(inputs.cuda(0))\n",
        "            pred = torch.argmax(outputs, dim=1)\n",
        "            score += torch.sum(pred == labels.cuda(0)).item()\n",
        "            n += labels.size()[0]\n",
        "    model.train()\n",
        "\n",
        "    acc = score/n\n",
        "    return acc\n",
        "\n",
        "\n",
        "acc = compute_acc(model, testloader)\n",
        "print('acc =', acc)"
      ],
      "metadata": {
        "colab": {
          "base_uri": "https://localhost:8080/"
        },
        "id": "i5Ic9zkgxJCc",
        "outputId": "ad89961a-aca8-4574-b474-43bbb20a6648"
      },
      "execution_count": null,
      "outputs": [
        {
          "output_type": "stream",
          "name": "stdout",
          "text": [
            "acc = 0.5662\n"
          ]
        }
      ]
    },
    {
      "cell_type": "markdown",
      "metadata": {
        "id": "gNYU1ulpnyyU"
      },
      "source": [
        "## Task 3\n",
        "Implement a function *recognize*. It takes an image (shape = 3, 32, 32) as an input and use the \"model\" you trained above to make a prediction of the image's class. Your function should return the predicted (string) class (use the classes list above to map numeric prediction to string label)."
      ]
    },
    {
      "cell_type": "code",
      "execution_count": null,
      "metadata": {
        "colab": {
          "base_uri": "https://localhost:8080/",
          "height": 458
        },
        "id": "T8AExaK5OGu4",
        "outputId": "862a3be6-3303-481b-924a-7f268dd4817d"
      },
      "outputs": [
        {
          "output_type": "stream",
          "name": "stdout",
          "text": [
            "Neural network recognizes this image as: cat\n",
            "true image label: cat\n"
          ]
        },
        {
          "output_type": "execute_result",
          "data": {
            "text/plain": [
              "(-0.5, 31.5, 31.5, -0.5)"
            ]
          },
          "metadata": {},
          "execution_count": 11
        },
        {
          "output_type": "display_data",
          "data": {
            "text/plain": [
              "<Figure size 640x480 with 1 Axes>"
            ],
            "image/png": "[encoded data removed]"
          },
          "metadata": {}
        }
      ],
      "source": [
        "def recognize(new_img):\n",
        "    outputs = model(torch.unsqueeze(new_img, dim=0))\n",
        "    pred = torch.argmax(outputs, dim=1)[0]\n",
        "    return classes[pred.item()]\n",
        "\n",
        "\n",
        "dataiter = iter(testloader)\n",
        "images, labels = next(dataiter)\n",
        "new_img = images[0]\n",
        "\n",
        "pred = recognize(new_img.cuda(0))\n",
        "\n",
        "print('Neural network recognizes this image as:', pred)\n",
        "print('true image label:', classes[labels[0].item()])\n",
        "imshow(new_img.permute([1, 2, 0]).numpy()/2 + .5)\n",
        "axis('off')"
      ]
    },
    {
      "cell_type": "markdown",
      "source": [
        "### Task 4\n",
        "\n",
        "Implement a CNN with the following structure:\n",
        "- 4 Conv layers:  \n",
        "(3x3)x32, (3x3)x32, (3x3)x64, (3x3)x64\n",
        "\n",
        "- 2x2 Maxpool after 2nd and 4th conv.\n",
        "- Dropout after pooling\n",
        "- One FC layer and then a FC output layer\n",
        "\n",
        "Train the CNN model until training accuracy converges.\n",
        "(Compute accuracy on training data at the end of each epoch. Plot the accuracy values vs epochs to determine whether it converges.) Test the accuracy of the trained model on the testing dataset."
      ],
      "metadata": {
        "id": "V8rfvnVTXudy"
      }
    },
    {
      "cell_type": "code",
      "source": [
        "cnn_model = torch.nn.Sequential(\n",
        "    torch.nn.Conv2d(3, 32, kernel_size=3, padding=1),\n",
        "    torch.nn.ReLU(),\n",
        "    torch.nn.Conv2d(32, 32, kernel_size=3, padding=1),\n",
        "    torch.nn.ReLU(),\n",
        "    torch.nn.MaxPool2d(kernel_size=2),\n",
        "    torch.nn.Dropout(p=0.15),\n",
        "\n",
        "    torch.nn.Conv2d(32, 64, kernel_size=3, padding=1),\n",
        "    torch.nn.ReLU(),\n",
        "    torch.nn.Conv2d(64, 64, kernel_size=3, padding=1),\n",
        "    torch.nn.ReLU(),\n",
        "    torch.nn.MaxPool2d(kernel_size=2),\n",
        "    torch.nn.Dropout(p=0.15),\n",
        "\n",
        "    torch.nn.Flatten(),\n",
        "    torch.nn.Linear(64 * 8 * 8, 128),\n",
        "    torch.nn.ReLU(),\n",
        "    torch.nn.Linear(128, 10)\n",
        ").cuda(0)\n",
        "\n",
        "\n",
        "cnn_loss_func = torch.nn.CrossEntropyLoss()\n",
        "cnn_optimizer = torch.optim.Adam(cnn_model.parameters(), lr=0.0001)"
      ],
      "metadata": {
        "id": "YG79-yH3YOO4"
      },
      "execution_count": null,
      "outputs": []
    },
    {
      "cell_type": "code",
      "source": [
        "acc = []\n",
        "for epoch in range(50):\n",
        "    running_loss = train_epoch(cnn_model, cnn_loss_func, cnn_optimizer, trainloader)\n",
        "    tacc = compute_acc(cnn_model, trainloader)\n",
        "    acc.append(tacc)\n",
        "    print(f'epoch: {epoch + 1} loss: {running_loss/(i+1):.3f}, train acc: {tacc:.3f}')"
      ],
      "metadata": {
        "id": "zZE4gtCuZgk1",
        "colab": {
          "base_uri": "https://localhost:8080/"
        },
        "outputId": "9467c15d-a296-419d-f6be-d57a52bd0d6b"
      },
      "execution_count": null,
      "outputs": [
        {
          "output_type": "stream",
          "name": "stdout",
          "text": [
            "epoch: 1 loss: 15.841, train acc: 0.316\n",
            "epoch: 2 loss: 13.546, train acc: 0.399\n",
            "epoch: 3 loss: 12.261, train acc: 0.446\n",
            "epoch: 4 loss: 11.593, train acc: 0.467\n",
            "epoch: 5 loss: 11.130, train acc: 0.487\n",
            "epoch: 6 loss: 10.834, train acc: 0.501\n",
            "epoch: 7 loss: 10.559, train acc: 0.513\n",
            "epoch: 8 loss: 10.326, train acc: 0.522\n",
            "epoch: 9 loss: 10.091, train acc: 0.532\n",
            "epoch: 10 loss: 9.910, train acc: 0.547\n",
            "epoch: 11 loss: 9.723, train acc: 0.558\n",
            "epoch: 12 loss: 9.560, train acc: 0.563\n",
            "epoch: 13 loss: 9.399, train acc: 0.575\n",
            "epoch: 14 loss: 9.231, train acc: 0.578\n",
            "epoch: 15 loss: 9.094, train acc: 0.586\n",
            "epoch: 16 loss: 8.979, train acc: 0.596\n",
            "epoch: 17 loss: 8.841, train acc: 0.602\n",
            "epoch: 18 loss: 8.712, train acc: 0.611\n",
            "epoch: 19 loss: 8.600, train acc: 0.616\n",
            "epoch: 20 loss: 8.484, train acc: 0.621\n",
            "epoch: 21 loss: 8.392, train acc: 0.625\n",
            "epoch: 22 loss: 8.293, train acc: 0.628\n",
            "epoch: 23 loss: 8.172, train acc: 0.636\n",
            "epoch: 24 loss: 8.038, train acc: 0.646\n",
            "epoch: 25 loss: 7.945, train acc: 0.651\n",
            "epoch: 26 loss: 7.862, train acc: 0.654\n",
            "epoch: 27 loss: 7.772, train acc: 0.661\n",
            "epoch: 28 loss: 7.685, train acc: 0.664\n",
            "epoch: 29 loss: 7.584, train acc: 0.666\n",
            "epoch: 30 loss: 7.498, train acc: 0.676\n",
            "epoch: 31 loss: 7.389, train acc: 0.677\n",
            "epoch: 32 loss: 7.325, train acc: 0.680\n",
            "epoch: 33 loss: 7.214, train acc: 0.684\n",
            "epoch: 34 loss: 7.152, train acc: 0.691\n",
            "epoch: 35 loss: 7.076, train acc: 0.695\n",
            "epoch: 36 loss: 7.008, train acc: 0.700\n",
            "epoch: 37 loss: 6.905, train acc: 0.703\n",
            "epoch: 38 loss: 6.827, train acc: 0.702\n",
            "epoch: 39 loss: 6.779, train acc: 0.707\n",
            "epoch: 40 loss: 6.693, train acc: 0.712\n",
            "epoch: 41 loss: 6.624, train acc: 0.717\n",
            "epoch: 42 loss: 6.543, train acc: 0.719\n",
            "epoch: 43 loss: 6.510, train acc: 0.723\n",
            "epoch: 44 loss: 6.454, train acc: 0.726\n",
            "epoch: 45 loss: 6.381, train acc: 0.728\n",
            "epoch: 46 loss: 6.292, train acc: 0.733\n",
            "epoch: 47 loss: 6.244, train acc: 0.735\n",
            "epoch: 48 loss: 6.179, train acc: 0.737\n",
            "epoch: 49 loss: 6.132, train acc: 0.743\n",
            "epoch: 50 loss: 6.056, train acc: 0.745\n"
          ]
        }
      ]
    },
    {
      "cell_type": "code",
      "source": [
        "plot(acc)"
      ],
      "metadata": {
        "colab": {
          "base_uri": "https://localhost:8080/",
          "height": 447
        },
        "id": "t7cjlOnfRtBg",
        "outputId": "5fa05f91-1b36-4674-99d1-f70199cff880"
      },
      "execution_count": null,
      "outputs": [
        {
          "output_type": "execute_result",
          "data": {
            "text/plain": [
              "[<matplotlib.lines.Line2D at 0x793e9c39e0e0>]"
            ]
          },
          "metadata": {},
          "execution_count": 24
        },
        {
          "output_type": "display_data",
          "data": {
            "text/plain": [
              "<Figure size 640x480 with 1 Axes>"
            ],
            "image/png": "[encoded data removed]"
          },
          "metadata": {}
        }
      ]
    },
    {
      "cell_type": "code",
      "source": [
        "print('acc=', compute_acc(cnn_model, testloader))"
      ],
      "metadata": {
        "id": "eD_hHNoaRup1",
        "colab": {
          "base_uri": "https://localhost:8080/"
        },
        "outputId": "f1e8efe0-def1-4844-e052-a16e01b21e49"
      },
      "execution_count": null,
      "outputs": [
        {
          "output_type": "stream",
          "name": "stdout",
          "text": [
            "acc= 0.6947\n"
          ]
        }
      ]
    }
  ],
  "metadata": {
    "accelerator": "GPU",
    "colab": {
      "provenance": []
    },
    "kernelspec": {
      "display_name": "Python 3",
      "language": "python",
      "name": "python3"
    },
    "language_info": {
      "codemirror_mode": {
        "name": "ipython",
        "version": 3
      },
      "file_extension": ".py",
      "mimetype": "text/x-python",
      "name": "python",
      "nbconvert_exporter": "python",
      "pygments_lexer": "ipython3",
      "version": "3.7.4"
    }
  },
  "nbformat": 4,
  "nbformat_minor": 0
}