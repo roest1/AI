{
 "cells": [
  {
   "cell_type": "markdown",
   "metadata": {},
   "source": [
    "### Task 1\n",
    "One benefit of using callable object instead of regular function is that callable object lets you keep state between calls. Implement a \"function\" named \"add_count\" that take a number as parameter and return the sum of the parameter and the number of times the function has been called. \n",
    "\n",
    "For example, when the function is called first time, \n",
    "```python\n",
    "add_count(3) \n",
    "```\n",
    "should return 4. Next time it is called, \n",
    "```python\n",
    "add_count(3) \n",
    "```\n",
    "should return 5 and so on. Example outputs are show below."
   ]
  },
  {
   "cell_type": "code",
   "execution_count": 3,
   "metadata": {},
   "outputs": [
    {
     "name": "stdout",
     "output_type": "stream",
     "text": [
      "4\n",
      "5\n",
      "6\n",
      "9\n",
      "15\n"
     ]
    }
   ],
   "source": [
    "\n",
    "#############\n",
    "## test the 'function'\n",
    "class Function:\n",
    "    def __init__(self):\n",
    "        self.count = 0\n",
    "\n",
    "    def __call__(self, number):\n",
    "        self.count += 1\n",
    "        return self.count + number\n",
    "\n",
    "\n",
    "# Creating an instance of AddCount\n",
    "add_count = Function()\n",
    "\n",
    "\n",
    "print(add_count(3)) # 4\n",
    "print(add_count(3)) # 5\n",
    "print(add_count(3)) # 6\n",
    "\n",
    "print(add_count(5)) # 9\n",
    "print(add_count(10)) # 15"
   ]
  },
  {
   "cell_type": "markdown",
   "metadata": {},
   "source": [
    "### Task 2\n",
    "Implement an iterator class (named **ImageIter**) to go through a collection of images. Each image is saved in a pickle file (.pkl file) in the image directory. One can use your implementation in a loop and loop through the images one at a time. You should give a lazy implementation. That is, the images get read into the memory only when they are needed (i.e., when \\__next__ is called)."
   ]
  },
  {
   "cell_type": "code",
   "execution_count": 8,
   "metadata": {},
   "outputs": [
    {
     "name": "stdout",
     "output_type": "stream",
     "text": [
      "0 (32, 32, 3)\n",
      "1 (32, 32, 3)\n",
      "2 (32, 32, 3)\n",
      "3 (32, 32, 3)\n",
      "4 (32, 32, 3)\n",
      "5 (32, 32, 3)\n",
      "6 (32, 32, 3)\n",
      "7 (32, 32, 3)\n",
      "8 (32, 32, 3)\n",
      "9 (32, 32, 3)\n"
     ]
    },
    {
     "data": {
      "text/plain": [
       "'\\nExpected Output:\\n0 (32, 32, 3)\\n1 (32, 32, 3)\\n2 (32, 32, 3)\\n3 (32, 32, 3)\\n4 (32, 32, 3)\\n5 (32, 32, 3)\\n6 (32, 32, 3)\\n7 (32, 32, 3)\\n8 (32, 32, 3)\\n9 (32, 32, 3)\\n\\n'"
      ]
     },
     "execution_count": 8,
     "metadata": {},
     "output_type": "execute_result"
    }
   ],
   "source": [
    "from os import listdir\n",
    "from os.path import join\n",
    "import pickle\n",
    "\n",
    "\n",
    "class ImageIter:\n",
    "    def __init__(self, directory):\n",
    "        self.dname = directory\n",
    "        # list files in a diretory.\n",
    "        # filter out the type of file names you want.\n",
    "        self.fnames = [file for file in listdir(directory) if file[-4:] == '.pkl']\n",
    "        self.index = 0\n",
    "\n",
    "    def __iter__(self):\n",
    "        return self\n",
    "\n",
    "    def __next__(self):\n",
    "        if self.index < len(self.fnames):\n",
    "            fname = self.fnames[self.index]\n",
    "            self.index += 1\n",
    "            # join dir name and file name\n",
    "            with open(join(self.dname, fname), 'rb') as file:\n",
    "                image = pickle.load(file) # load pickle file\n",
    "            return image\n",
    "        else:\n",
    "            raise StopIteration\n",
    "\n",
    "############\n",
    "## Test the iterator\n",
    "t = ImageIter('image_data')\n",
    "for i, m in enumerate(t):\n",
    "    print(i, m.shape)\n",
    "\n",
    "'''\n",
    "Expected Output:\n",
    "0 (32, 32, 3)\n",
    "1 (32, 32, 3)\n",
    "2 (32, 32, 3)\n",
    "3 (32, 32, 3)\n",
    "4 (32, 32, 3)\n",
    "5 (32, 32, 3)\n",
    "6 (32, 32, 3)\n",
    "7 (32, 32, 3)\n",
    "8 (32, 32, 3)\n",
    "9 (32, 32, 3)\n",
    "'''"
   ]
  },
  {
   "cell_type": "code",
   "execution_count": null,
   "metadata": {},
   "outputs": [],
   "source": []
  }
 ],
 "metadata": {
  "kernelspec": {
   "display_name": "Python 3 (ipykernel)",
   "language": "python",
   "name": "python3"
  },
  "language_info": {
   "codemirror_mode": {
    "name": "ipython",
    "version": 3
   },
   "file_extension": ".py",
   "mimetype": "text/x-python",
   "name": "python",
   "nbconvert_exporter": "python",
   "pygments_lexer": "ipython3",
   "version": "3.0.0"
  }
 },
 "nbformat": 4,
 "nbformat_minor": 2
}
