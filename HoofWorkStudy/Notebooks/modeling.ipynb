{
 "cells": [
  {
   "cell_type": "markdown",
   "metadata": {},
   "source": [
    "# Imports"
   ]
  },
  {
   "cell_type": "code",
   "execution_count": 2,
   "metadata": {},
   "outputs": [],
   "source": [
    "import sys\n",
    "sys.path.append('/Users/rileyoest/VS_Code/HoofStudy')\n",
    "from src.visualize import *\n",
    "from src.utils import *\n",
    "from src.modeling import *"
   ]
  },
  {
   "cell_type": "markdown",
   "metadata": {},
   "source": [
    "# Get and Preprocess Data"
   ]
  },
  {
   "cell_type": "code",
   "execution_count": 2,
   "metadata": {},
   "outputs": [],
   "source": [
    "df = get_data()\n",
    "df, normalization_params = preprocess_data(df)"
   ]
  },
  {
   "cell_type": "markdown",
   "metadata": {},
   "source": [
    "# Train-Val-Test Split"
   ]
  },
  {
   "cell_type": "code",
   "execution_count": 3,
   "metadata": {},
   "outputs": [
    {
     "name": "stdout",
     "output_type": "stream",
     "text": [
      "==================================================\n",
      "Train set:\n",
      "  (True, 'Eggbar'): 13 trials\n",
      "  (True, 'Unshod'): 10 trials\n",
      "  (False, 'Heartbar'): 15 trials\n",
      "  (True, 'Standard'): 11 trials\n",
      "  (False, 'Unshod'): 15 trials\n",
      "  (False, 'Standard'): 15 trials\n",
      "  (False, 'Eggbar'): 18 trials\n",
      "  (True, 'Heartbar'): 14 trials\n",
      "==================================================\n",
      "Validate set:\n",
      "  (True, 'Eggbar'): 5 trials\n",
      "  (True, 'Unshod'): 4 trials\n",
      "  (False, 'Heartbar'): 6 trials\n",
      "  (True, 'Standard'): 4 trials\n",
      "  (False, 'Unshod'): 6 trials\n",
      "  (False, 'Standard'): 6 trials\n",
      "  (False, 'Eggbar'): 7 trials\n",
      "  (True, 'Heartbar'): 5 trials\n",
      "==================================================\n",
      "Test set:\n",
      "  (True, 'Eggbar'): 3 trials\n",
      "  (True, 'Unshod'): 2 trials\n",
      "  (False, 'Heartbar'): 3 trials\n",
      "  (True, 'Standard'): 2 trials\n",
      "  (False, 'Unshod'): 3 trials\n",
      "  (False, 'Standard'): 3 trials\n",
      "  (False, 'Eggbar'): 4 trials\n",
      "  (True, 'Heartbar'): 4 trials\n",
      "==================================================\n"
     ]
    }
   ],
   "source": [
    "input_columns = ['DW_y', 'DW_z', 'SM_y', 'SM_z', 'CB_y', 'CB_z']\n",
    "target_columns = ['P3_y', 'P3_z']\n",
    "X_train, y_train, X_val, y_val, X_test, y_test, trial_lengths, health_shoe_params = train_test_split(\n",
    "    dataframe=df,\n",
    "    input_columns=input_columns,\n",
    "    target_columns=target_columns,\n",
    "    train_ratio=0.65,\n",
    "    val_ratio=0.25,\n",
    "    seed=0,\n",
    "    verbose=True\n",
    ")"
   ]
  },
  {
   "cell_type": "markdown",
   "metadata": {},
   "source": [
    "# Training Singular Model"
   ]
  },
  {
   "cell_type": "code",
   "execution_count": 6,
   "metadata": {},
   "outputs": [
    {
     "name": "stdout",
     "output_type": "stream",
     "text": [
      "Epoch 1/250 - mse train loss: 0.2314 - mse val loss: 0.1092\n",
      "Epoch 2/250 - mse train loss: 0.1073 - mse val loss: 0.0332\n",
      "Epoch 3/250 - mse train loss: 0.0324 - mse val loss: 0.0290\n",
      "Epoch 4/250 - mse train loss: 0.0292 - mse val loss: 0.0638\n",
      "Epoch 5/250 - mse train loss: 0.0644 - mse val loss: 0.0560\n",
      "Epoch 6/250 - mse train loss: 0.0567 - mse val loss: 0.0287\n",
      "Epoch 7/250 - mse train loss: 0.0291 - mse val loss: 0.0125\n",
      "Epoch 8/250 - mse train loss: 0.0125 - mse val loss: 0.0129\n",
      "Epoch 9/250 - mse train loss: 0.0126 - mse val loss: 0.0205\n",
      "Epoch 10/250 - mse train loss: 0.0198 - mse val loss: 0.0251\n",
      "Epoch 11/250 - mse train loss: 0.0242 - mse val loss: 0.0236\n",
      "Epoch 12/250 - mse train loss: 0.0227 - mse val loss: 0.0182\n",
      "Epoch 13/250 - mse train loss: 0.0173 - mse val loss: 0.0128\n",
      "Epoch 14/250 - mse train loss: 0.0119 - mse val loss: 0.0100\n",
      "Epoch 15/250 - mse train loss: 0.0092 - mse val loss: 0.0095\n",
      "Epoch 16/250 - mse train loss: 0.0088 - mse val loss: 0.0088\n",
      "Epoch 17/250 - mse train loss: 0.0083 - mse val loss: 0.0072\n",
      "Epoch 18/250 - mse train loss: 0.0069 - mse val loss: 0.0060\n",
      "Epoch 19/250 - mse train loss: 0.0059 - mse val loss: 0.0068\n",
      "Epoch 20/250 - mse train loss: 0.0067 - mse val loss: 0.0087\n",
      "Epoch 21/250 - mse train loss: 0.0086 - mse val loss: 0.0095\n",
      "Epoch 22/250 - mse train loss: 0.0094 - mse val loss: 0.0084\n",
      "Epoch 23/250 - mse train loss: 0.0082 - mse val loss: 0.0060\n",
      "Epoch 24/250 - mse train loss: 0.0057 - mse val loss: 0.0040\n",
      "Epoch 25/250 - mse train loss: 0.0036 - mse val loss: 0.0035\n",
      "Epoch 26/250 - mse train loss: 0.0029 - mse val loss: 0.0042\n",
      "Epoch 27/250 - mse train loss: 0.0036 - mse val loss: 0.0053\n",
      "Epoch 28/250 - mse train loss: 0.0046 - mse val loss: 0.0058\n",
      "Epoch 29/250 - mse train loss: 0.0050 - mse val loss: 0.0056\n",
      "Epoch 30/250 - mse train loss: 0.0048 - mse val loss: 0.0051\n",
      "Epoch 31/250 - mse train loss: 0.0043 - mse val loss: 0.0047\n",
      "Epoch 32/250 - mse train loss: 0.0040 - mse val loss: 0.0045\n",
      "Epoch 33/250 - mse train loss: 0.0038 - mse val loss: 0.0043\n",
      "Epoch 34/250 - mse train loss: 0.0036 - mse val loss: 0.0040\n",
      "Epoch 35/250 - mse train loss: 0.0034 - mse val loss: 0.0037\n",
      "Epoch 36/250 - mse train loss: 0.0031 - mse val loss: 0.0035\n",
      "Epoch 37/250 - mse train loss: 0.0030 - mse val loss: 0.0036\n",
      "Epoch 38/250 - mse train loss: 0.0032 - mse val loss: 0.0039\n",
      "Epoch 39/250 - mse train loss: 0.0035 - mse val loss: 0.0039\n",
      "Epoch 40/250 - mse train loss: 0.0036 - mse val loss: 0.0037\n",
      "Epoch 41/250 - mse train loss: 0.0033 - mse val loss: 0.0034\n",
      "Epoch 42/250 - mse train loss: 0.0030 - mse val loss: 0.0031\n",
      "Epoch 43/250 - mse train loss: 0.0026 - mse val loss: 0.0030\n",
      "Epoch 44/250 - mse train loss: 0.0025 - mse val loss: 0.0031\n",
      "Epoch 45/250 - mse train loss: 0.0026 - mse val loss: 0.0032\n",
      "Epoch 46/250 - mse train loss: 0.0027 - mse val loss: 0.0033\n",
      "Epoch 47/250 - mse train loss: 0.0027 - mse val loss: 0.0032\n",
      "Epoch 48/250 - mse train loss: 0.0027 - mse val loss: 0.0032\n",
      "Epoch 49/250 - mse train loss: 0.0027 - mse val loss: 0.0031\n",
      "Epoch 50/250 - mse train loss: 0.0026 - mse val loss: 0.0030\n",
      "Epoch 51/250 - mse train loss: 0.0026 - mse val loss: 0.0030\n",
      "Epoch 52/250 - mse train loss: 0.0025 - mse val loss: 0.0028\n",
      "Epoch 53/250 - mse train loss: 0.0025 - mse val loss: 0.0028\n",
      "Epoch 54/250 - mse train loss: 0.0024 - mse val loss: 0.0028\n",
      "Epoch 55/250 - mse train loss: 0.0024 - mse val loss: 0.0028\n",
      "Epoch 56/250 - mse train loss: 0.0025 - mse val loss: 0.0028\n",
      "Epoch 57/250 - mse train loss: 0.0025 - mse val loss: 0.0028\n",
      "Epoch 58/250 - mse train loss: 0.0025 - mse val loss: 0.0027\n",
      "Epoch 59/250 - mse train loss: 0.0024 - mse val loss: 0.0027\n",
      "Epoch 60/250 - mse train loss: 0.0023 - mse val loss: 0.0027\n",
      "Epoch 61/250 - mse train loss: 0.0023 - mse val loss: 0.0027\n",
      "Epoch 62/250 - mse train loss: 0.0023 - mse val loss: 0.0027\n",
      "Epoch 63/250 - mse train loss: 0.0023 - mse val loss: 0.0027\n",
      "Epoch 64/250 - mse train loss: 0.0023 - mse val loss: 0.0027\n",
      "Epoch 65/250 - mse train loss: 0.0023 - mse val loss: 0.0027\n",
      "Epoch 66/250 - mse train loss: 0.0022 - mse val loss: 0.0027\n",
      "Epoch 67/250 - mse train loss: 0.0022 - mse val loss: 0.0026\n",
      "Epoch 68/250 - mse train loss: 0.0022 - mse val loss: 0.0026\n",
      "Epoch 69/250 - mse train loss: 0.0022 - mse val loss: 0.0025\n",
      "Epoch 70/250 - mse train loss: 0.0021 - mse val loss: 0.0025\n",
      "Epoch 71/250 - mse train loss: 0.0021 - mse val loss: 0.0025\n",
      "Epoch 72/250 - mse train loss: 0.0021 - mse val loss: 0.0025\n",
      "Epoch 73/250 - mse train loss: 0.0021 - mse val loss: 0.0025\n",
      "Epoch 74/250 - mse train loss: 0.0021 - mse val loss: 0.0025\n",
      "Epoch 75/250 - mse train loss: 0.0021 - mse val loss: 0.0024\n",
      "Epoch 76/250 - mse train loss: 0.0021 - mse val loss: 0.0024\n",
      "Epoch 77/250 - mse train loss: 0.0020 - mse val loss: 0.0024\n",
      "Epoch 78/250 - mse train loss: 0.0020 - mse val loss: 0.0024\n",
      "Epoch 79/250 - mse train loss: 0.0020 - mse val loss: 0.0024\n",
      "Epoch 80/250 - mse train loss: 0.0020 - mse val loss: 0.0024\n",
      "Epoch 81/250 - mse train loss: 0.0020 - mse val loss: 0.0024\n",
      "Epoch 82/250 - mse train loss: 0.0020 - mse val loss: 0.0023\n",
      "Epoch 83/250 - mse train loss: 0.0020 - mse val loss: 0.0023\n",
      "Epoch 84/250 - mse train loss: 0.0019 - mse val loss: 0.0023\n",
      "Epoch 85/250 - mse train loss: 0.0019 - mse val loss: 0.0023\n",
      "Epoch 86/250 - mse train loss: 0.0019 - mse val loss: 0.0022\n",
      "Epoch 87/250 - mse train loss: 0.0019 - mse val loss: 0.0022\n",
      "Epoch 88/250 - mse train loss: 0.0019 - mse val loss: 0.0022\n",
      "Epoch 89/250 - mse train loss: 0.0019 - mse val loss: 0.0022\n",
      "Epoch 90/250 - mse train loss: 0.0018 - mse val loss: 0.0022\n",
      "Epoch 91/250 - mse train loss: 0.0018 - mse val loss: 0.0021\n",
      "Epoch 92/250 - mse train loss: 0.0018 - mse val loss: 0.0021\n",
      "Epoch 93/250 - mse train loss: 0.0018 - mse val loss: 0.0021\n",
      "Epoch 94/250 - mse train loss: 0.0018 - mse val loss: 0.0021\n",
      "Epoch 95/250 - mse train loss: 0.0018 - mse val loss: 0.0021\n",
      "Epoch 96/250 - mse train loss: 0.0018 - mse val loss: 0.0021\n",
      "Epoch 97/250 - mse train loss: 0.0017 - mse val loss: 0.0020\n",
      "Epoch 98/250 - mse train loss: 0.0017 - mse val loss: 0.0020\n",
      "Epoch 99/250 - mse train loss: 0.0017 - mse val loss: 0.0020\n",
      "Epoch 100/250 - mse train loss: 0.0017 - mse val loss: 0.0020\n",
      "Epoch 101/250 - mse train loss: 0.0017 - mse val loss: 0.0020\n",
      "Epoch 102/250 - mse train loss: 0.0017 - mse val loss: 0.0019\n",
      "Epoch 103/250 - mse train loss: 0.0017 - mse val loss: 0.0019\n",
      "Epoch 104/250 - mse train loss: 0.0016 - mse val loss: 0.0019\n",
      "Epoch 105/250 - mse train loss: 0.0016 - mse val loss: 0.0019\n",
      "Epoch 106/250 - mse train loss: 0.0016 - mse val loss: 0.0019\n",
      "Epoch 107/250 - mse train loss: 0.0016 - mse val loss: 0.0019\n",
      "Epoch 108/250 - mse train loss: 0.0016 - mse val loss: 0.0018\n",
      "Epoch 109/250 - mse train loss: 0.0016 - mse val loss: 0.0018\n",
      "Epoch 110/250 - mse train loss: 0.0016 - mse val loss: 0.0018\n",
      "Epoch 111/250 - mse train loss: 0.0015 - mse val loss: 0.0018\n",
      "Epoch 112/250 - mse train loss: 0.0015 - mse val loss: 0.0018\n",
      "Epoch 113/250 - mse train loss: 0.0015 - mse val loss: 0.0018\n",
      "Epoch 114/250 - mse train loss: 0.0015 - mse val loss: 0.0017\n",
      "Epoch 115/250 - mse train loss: 0.0015 - mse val loss: 0.0017\n",
      "Epoch 116/250 - mse train loss: 0.0015 - mse val loss: 0.0017\n",
      "Epoch 117/250 - mse train loss: 0.0015 - mse val loss: 0.0017\n",
      "Epoch 118/250 - mse train loss: 0.0014 - mse val loss: 0.0017\n",
      "Epoch 119/250 - mse train loss: 0.0014 - mse val loss: 0.0017\n",
      "Epoch 120/250 - mse train loss: 0.0014 - mse val loss: 0.0016\n",
      "Epoch 121/250 - mse train loss: 0.0014 - mse val loss: 0.0016\n",
      "Epoch 122/250 - mse train loss: 0.0014 - mse val loss: 0.0016\n",
      "Epoch 123/250 - mse train loss: 0.0014 - mse val loss: 0.0016\n",
      "Epoch 124/250 - mse train loss: 0.0014 - mse val loss: 0.0016\n",
      "Epoch 125/250 - mse train loss: 0.0014 - mse val loss: 0.0016\n",
      "Epoch 126/250 - mse train loss: 0.0014 - mse val loss: 0.0016\n",
      "Epoch 127/250 - mse train loss: 0.0014 - mse val loss: 0.0016\n",
      "Epoch 128/250 - mse train loss: 0.0014 - mse val loss: 0.0015\n",
      "Epoch 129/250 - mse train loss: 0.0013 - mse val loss: 0.0015\n",
      "Epoch 130/250 - mse train loss: 0.0013 - mse val loss: 0.0015\n",
      "Epoch 131/250 - mse train loss: 0.0013 - mse val loss: 0.0015\n",
      "Epoch 132/250 - mse train loss: 0.0013 - mse val loss: 0.0015\n",
      "Epoch 133/250 - mse train loss: 0.0013 - mse val loss: 0.0015\n",
      "Epoch 134/250 - mse train loss: 0.0013 - mse val loss: 0.0015\n",
      "Epoch 135/250 - mse train loss: 0.0013 - mse val loss: 0.0015\n",
      "Epoch 136/250 - mse train loss: 0.0013 - mse val loss: 0.0015\n",
      "Epoch 137/250 - mse train loss: 0.0013 - mse val loss: 0.0015\n",
      "Epoch 138/250 - mse train loss: 0.0013 - mse val loss: 0.0015\n",
      "Epoch 139/250 - mse train loss: 0.0013 - mse val loss: 0.0015\n",
      "Epoch 140/250 - mse train loss: 0.0013 - mse val loss: 0.0015\n",
      "Epoch 141/250 - mse train loss: 0.0013 - mse val loss: 0.0014\n",
      "Epoch 142/250 - mse train loss: 0.0013 - mse val loss: 0.0014\n",
      "Epoch 143/250 - mse train loss: 0.0013 - mse val loss: 0.0014\n",
      "Epoch 144/250 - mse train loss: 0.0013 - mse val loss: 0.0014\n",
      "Epoch 145/250 - mse train loss: 0.0013 - mse val loss: 0.0014\n",
      "Epoch 146/250 - mse train loss: 0.0013 - mse val loss: 0.0014\n",
      "Epoch 147/250 - mse train loss: 0.0013 - mse val loss: 0.0014\n",
      "Epoch 148/250 - mse train loss: 0.0013 - mse val loss: 0.0014\n",
      "Epoch 149/250 - mse train loss: 0.0013 - mse val loss: 0.0014\n",
      "Epoch 150/250 - mse train loss: 0.0012 - mse val loss: 0.0014\n",
      "Epoch 151/250 - mse train loss: 0.0012 - mse val loss: 0.0014\n",
      "Epoch 152/250 - mse train loss: 0.0012 - mse val loss: 0.0014\n",
      "Epoch 153/250 - mse train loss: 0.0012 - mse val loss: 0.0014\n",
      "Epoch 154/250 - mse train loss: 0.0012 - mse val loss: 0.0014\n",
      "Epoch 155/250 - mse train loss: 0.0012 - mse val loss: 0.0014\n",
      "Epoch 156/250 - mse train loss: 0.0012 - mse val loss: 0.0014\n",
      "Epoch 157/250 - mse train loss: 0.0012 - mse val loss: 0.0014\n",
      "Epoch 158/250 - mse train loss: 0.0012 - mse val loss: 0.0014\n",
      "Epoch 159/250 - mse train loss: 0.0012 - mse val loss: 0.0014\n",
      "Epoch 160/250 - mse train loss: 0.0012 - mse val loss: 0.0014\n",
      "Epoch 161/250 - mse train loss: 0.0012 - mse val loss: 0.0014\n",
      "Epoch 162/250 - mse train loss: 0.0012 - mse val loss: 0.0014\n",
      "Epoch 163/250 - mse train loss: 0.0012 - mse val loss: 0.0014\n",
      "Epoch 164/250 - mse train loss: 0.0012 - mse val loss: 0.0014\n",
      "Epoch 165/250 - mse train loss: 0.0012 - mse val loss: 0.0014\n",
      "Epoch 166/250 - mse train loss: 0.0012 - mse val loss: 0.0014\n",
      "Epoch 167/250 - mse train loss: 0.0012 - mse val loss: 0.0014\n",
      "Epoch 168/250 - mse train loss: 0.0012 - mse val loss: 0.0014\n",
      "Epoch 169/250 - mse train loss: 0.0012 - mse val loss: 0.0014\n",
      "Epoch 170/250 - mse train loss: 0.0012 - mse val loss: 0.0014\n",
      "Epoch 171/250 - mse train loss: 0.0012 - mse val loss: 0.0014\n",
      "Epoch 172/250 - mse train loss: 0.0012 - mse val loss: 0.0014\n",
      "Epoch 173/250 - mse train loss: 0.0012 - mse val loss: 0.0014\n",
      "Epoch 174/250 - mse train loss: 0.0012 - mse val loss: 0.0014\n",
      "Epoch 175/250 - mse train loss: 0.0012 - mse val loss: 0.0014\n",
      "Epoch 176/250 - mse train loss: 0.0012 - mse val loss: 0.0014\n",
      "Epoch 177/250 - mse train loss: 0.0012 - mse val loss: 0.0014\n",
      "Epoch 178/250 - mse train loss: 0.0012 - mse val loss: 0.0014\n",
      "Epoch 179/250 - mse train loss: 0.0012 - mse val loss: 0.0014\n",
      "Epoch 180/250 - mse train loss: 0.0012 - mse val loss: 0.0014\n",
      "Epoch 181/250 - mse train loss: 0.0012 - mse val loss: 0.0014\n",
      "Epoch 182/250 - mse train loss: 0.0012 - mse val loss: 0.0014\n",
      "Epoch 183/250 - mse train loss: 0.0012 - mse val loss: 0.0014\n",
      "Epoch 184/250 - mse train loss: 0.0012 - mse val loss: 0.0014\n",
      "Epoch 185/250 - mse train loss: 0.0012 - mse val loss: 0.0014\n",
      "Epoch 186/250 - mse train loss: 0.0012 - mse val loss: 0.0014\n",
      "Epoch 187/250 - mse train loss: 0.0012 - mse val loss: 0.0014\n",
      "Epoch 188/250 - mse train loss: 0.0012 - mse val loss: 0.0014\n",
      "Epoch 189/250 - mse train loss: 0.0012 - mse val loss: 0.0014\n",
      "Epoch 190/250 - mse train loss: 0.0012 - mse val loss: 0.0014\n",
      "Epoch 191/250 - mse train loss: 0.0012 - mse val loss: 0.0014\n",
      "Epoch 192/250 - mse train loss: 0.0012 - mse val loss: 0.0014\n",
      "Epoch 193/250 - mse train loss: 0.0012 - mse val loss: 0.0014\n",
      "Epoch 194/250 - mse train loss: 0.0012 - mse val loss: 0.0014\n",
      "Epoch 195/250 - mse train loss: 0.0012 - mse val loss: 0.0013\n",
      "Epoch 196/250 - mse train loss: 0.0012 - mse val loss: 0.0013\n",
      "Epoch 197/250 - mse train loss: 0.0012 - mse val loss: 0.0013\n",
      "Epoch 198/250 - mse train loss: 0.0012 - mse val loss: 0.0013\n",
      "Epoch 199/250 - mse train loss: 0.0012 - mse val loss: 0.0013\n",
      "Epoch 200/250 - mse train loss: 0.0012 - mse val loss: 0.0013\n",
      "Epoch 201/250 - mse train loss: 0.0012 - mse val loss: 0.0013\n",
      "Epoch 202/250 - mse train loss: 0.0012 - mse val loss: 0.0013\n",
      "Epoch 203/250 - mse train loss: 0.0012 - mse val loss: 0.0013\n",
      "Epoch 204/250 - mse train loss: 0.0012 - mse val loss: 0.0013\n",
      "Epoch 205/250 - mse train loss: 0.0012 - mse val loss: 0.0013\n",
      "Epoch 206/250 - mse train loss: 0.0012 - mse val loss: 0.0013\n",
      "Epoch 207/250 - mse train loss: 0.0012 - mse val loss: 0.0013\n",
      "Epoch 208/250 - mse train loss: 0.0012 - mse val loss: 0.0013\n",
      "Epoch 209/250 - mse train loss: 0.0012 - mse val loss: 0.0013\n",
      "Epoch 210/250 - mse train loss: 0.0012 - mse val loss: 0.0013\n",
      "Epoch 211/250 - mse train loss: 0.0012 - mse val loss: 0.0013\n",
      "Epoch 212/250 - mse train loss: 0.0012 - mse val loss: 0.0013\n",
      "Epoch 213/250 - mse train loss: 0.0012 - mse val loss: 0.0013\n",
      "Epoch 214/250 - mse train loss: 0.0012 - mse val loss: 0.0013\n",
      "Epoch 215/250 - mse train loss: 0.0012 - mse val loss: 0.0013\n",
      "Epoch 216/250 - mse train loss: 0.0012 - mse val loss: 0.0013\n",
      "Epoch 217/250 - mse train loss: 0.0012 - mse val loss: 0.0013\n",
      "Epoch 218/250 - mse train loss: 0.0012 - mse val loss: 0.0013\n",
      "Epoch 219/250 - mse train loss: 0.0012 - mse val loss: 0.0013\n",
      "Epoch 220/250 - mse train loss: 0.0012 - mse val loss: 0.0013\n",
      "Epoch 221/250 - mse train loss: 0.0012 - mse val loss: 0.0013\n",
      "Epoch 222/250 - mse train loss: 0.0012 - mse val loss: 0.0013\n",
      "Epoch 223/250 - mse train loss: 0.0012 - mse val loss: 0.0013\n",
      "Epoch 224/250 - mse train loss: 0.0012 - mse val loss: 0.0013\n",
      "Epoch 225/250 - mse train loss: 0.0012 - mse val loss: 0.0013\n",
      "Epoch 226/250 - mse train loss: 0.0012 - mse val loss: 0.0013\n",
      "Epoch 227/250 - mse train loss: 0.0012 - mse val loss: 0.0013\n",
      "Epoch 228/250 - mse train loss: 0.0012 - mse val loss: 0.0013\n",
      "Epoch 229/250 - mse train loss: 0.0012 - mse val loss: 0.0013\n",
      "Epoch 230/250 - mse train loss: 0.0012 - mse val loss: 0.0013\n",
      "Epoch 231/250 - mse train loss: 0.0012 - mse val loss: 0.0013\n",
      "Epoch 232/250 - mse train loss: 0.0012 - mse val loss: 0.0013\n",
      "Epoch 233/250 - mse train loss: 0.0012 - mse val loss: 0.0013\n",
      "Epoch 234/250 - mse train loss: 0.0012 - mse val loss: 0.0013\n",
      "Epoch 235/250 - mse train loss: 0.0012 - mse val loss: 0.0013\n",
      "Epoch 236/250 - mse train loss: 0.0012 - mse val loss: 0.0013\n",
      "Epoch 237/250 - mse train loss: 0.0012 - mse val loss: 0.0013\n",
      "Epoch 238/250 - mse train loss: 0.0012 - mse val loss: 0.0013\n",
      "Epoch 239/250 - mse train loss: 0.0012 - mse val loss: 0.0013\n",
      "Epoch 240/250 - mse train loss: 0.0012 - mse val loss: 0.0013\n",
      "Epoch 241/250 - mse train loss: 0.0012 - mse val loss: 0.0013\n",
      "Epoch 242/250 - mse train loss: 0.0012 - mse val loss: 0.0013\n",
      "Epoch 243/250 - mse train loss: 0.0012 - mse val loss: 0.0013\n",
      "Epoch 244/250 - mse train loss: 0.0012 - mse val loss: 0.0013\n",
      "Epoch 245/250 - mse train loss: 0.0012 - mse val loss: 0.0013\n",
      "Epoch 246/250 - mse train loss: 0.0012 - mse val loss: 0.0013\n",
      "Epoch 247/250 - mse train loss: 0.0012 - mse val loss: 0.0013\n",
      "Epoch 248/250 - mse train loss: 0.0012 - mse val loss: 0.0013\n",
      "Epoch 249/250 - mse train loss: 0.0012 - mse val loss: 0.0013\n",
      "Epoch 250/250 - mse train loss: 0.0012 - mse val loss: 0.0013\n"
     ]
    }
   ],
   "source": [
    "model = NeuralNet(X_train.shape[1], y_train.shape[1], hidden_neurons=32)\n",
    "model = torch.nn.DataParallel(model)\n",
    "best_model = train_neural_network(\n",
    "    model, X_train, y_train, X_val, y_val, \n",
    "    num_epochs=250,\n",
    "    learning_rate=0.01,\n",
    "    verbose=True, \n",
    "    )"
   ]
  },
  {
   "cell_type": "markdown",
   "metadata": {},
   "source": [
    "# Save Model"
   ]
  },
  {
   "cell_type": "code",
   "execution_count": 10,
   "metadata": {},
   "outputs": [],
   "source": [
    "save_model(best_model, 'best_model.pth')"
   ]
  },
  {
   "cell_type": "markdown",
   "metadata": {},
   "source": [
    "# Load Model"
   ]
  },
  {
   "cell_type": "code",
   "execution_count": 9,
   "metadata": {},
   "outputs": [],
   "source": [
    "# model = load_model(X_train.shape[1], y_train.shape[1], 'best_model.pth')\n",
    "model = load_model(len(input_columns), len(target_columns), 'best_model.pth')"
   ]
  },
  {
   "cell_type": "code",
   "execution_count": 10,
   "metadata": {},
   "outputs": [
    {
     "name": "stdout",
     "output_type": "stream",
     "text": [
      "Accuracy of Predictions for P3 Model\n",
      "==================================================\n",
      "R² = 0.9818\n",
      "MSE = 0.0012\n",
      "==================================================\n"
     ]
    }
   ],
   "source": [
    "print_model_accuracy(model, X_test, y_test)"
   ]
  },
  {
   "cell_type": "markdown",
   "metadata": {},
   "source": [
    "# Bayesian Optimization to Find Best Hyperparameters"
   ]
  },
  {
   "cell_type": "code",
   "execution_count": 14,
   "metadata": {},
   "outputs": [
    {
     "name": "stdout",
     "output_type": "stream",
     "text": [
      "|   iter    |  target   | hidden... | learni... | num_ep... | remain... | train_... |\n",
      "-------------------------------------------------------------------------------------\n",
      "Parameters:\n",
      "Train ratio = 0.4587\n",
      "Val ratio = 0.1334\n",
      "epochs = 200\n",
      "Learning rate = 0.07204\n",
      "Hidden neurons = 32\n",
      "\n",
      "MSE = 0.001376\n",
      "| \u001b[0m1        \u001b[0m | \u001b[0m-0.001376\u001b[0m | \u001b[0m5.668    \u001b[0m | \u001b[0m0.07204  \u001b[0m | \u001b[0m200.0    \u001b[0m | \u001b[0m0.3023   \u001b[0m | \u001b[0m0.4587   \u001b[0m |\n",
      "Parameters:\n",
      "Train ratio = 0.6155\n",
      "Val ratio = 0.1129\n",
      "epochs = 234\n",
      "Learning rate = 0.01863\n",
      "Hidden neurons = 16\n",
      "\n",
      "MSE = 0.00128\n",
      "| \u001b[95m2        \u001b[0m | \u001b[95m-0.00128 \u001b[0m | \u001b[95m4.369    \u001b[0m | \u001b[95m0.01863  \u001b[0m | \u001b[95m234.6    \u001b[0m | \u001b[95m0.3968   \u001b[0m | \u001b[95m0.6155   \u001b[0m |\n",
      "Parameters:\n",
      "Train ratio = 0.5227\n",
      "Val ratio = 0.282\n",
      "epochs = 235\n",
      "Learning rate = 0.03695\n",
      "Hidden neurons = 32\n",
      "\n",
      "MSE = 0.00127\n",
      "| \u001b[95m3        \u001b[0m | \u001b[95m-0.00127 \u001b[0m | \u001b[95m5.438    \u001b[0m | \u001b[95m0.03695  \u001b[0m | \u001b[95m235.2    \u001b[0m | \u001b[95m0.7476   \u001b[0m | \u001b[95m0.5227   \u001b[0m |\n",
      "Parameters:\n",
      "Train ratio = 0.5674\n",
      "Val ratio = 0.3175\n",
      "epochs = 245\n",
      "Learning rate = 0.09667\n",
      "Hidden neurons = 128\n",
      "\n",
      "MSE = 0.002109\n",
      "| \u001b[0m4        \u001b[0m | \u001b[0m-0.002109\u001b[0m | \u001b[0m7.94     \u001b[0m | \u001b[0m0.09667  \u001b[0m | \u001b[0m245.5    \u001b[0m | \u001b[0m0.9544   \u001b[0m | \u001b[0m0.5674   \u001b[0m |\n",
      "Parameters:\n",
      "Train ratio = 0.6212\n",
      "Val ratio = 0.1865\n",
      "epochs = 227\n",
      "Learning rate = 0.01814\n",
      "Hidden neurons = 128\n",
      "\n",
      "MSE = 0.001274\n",
      "| \u001b[0m5        \u001b[0m | \u001b[0m-0.001274\u001b[0m | \u001b[0m7.993    \u001b[0m | \u001b[0m0.01814  \u001b[0m | \u001b[0m227.1    \u001b[0m | \u001b[0m0.6689   \u001b[0m | \u001b[0m0.6212   \u001b[0m |\n",
      "Parameters:\n",
      "Train ratio = 0.7448\n",
      "Val ratio = 0.1498\n",
      "epochs = 215\n",
      "Learning rate = 0.08329\n",
      "Hidden neurons = 32\n",
      "\n",
      "MSE = 0.001381\n",
      "| \u001b[0m6        \u001b[0m | \u001b[0m-0.001381\u001b[0m | \u001b[0m5.589    \u001b[0m | \u001b[0m0.08329  \u001b[0m | \u001b[0m215.1    \u001b[0m | \u001b[0m0.9654   \u001b[0m | \u001b[0m0.7448   \u001b[0m |\n",
      "Parameters:\n",
      "Train ratio = 0.4458\n",
      "Val ratio = 0.1356\n",
      "epochs = 299\n",
      "Learning rate = 0.07905\n",
      "Hidden neurons = 16\n",
      "\n",
      "MSE = 0.001205\n",
      "| \u001b[95m7        \u001b[0m | \u001b[95m-0.001205\u001b[0m | \u001b[95m4.203    \u001b[0m | \u001b[95m0.07905  \u001b[0m | \u001b[95m300.0    \u001b[0m | \u001b[95m0.2986   \u001b[0m | \u001b[95m0.4458   \u001b[0m |\n",
      "Parameters:\n",
      "Train ratio = 0.7\n",
      "Val ratio = 0.04066\n",
      "epochs = 291\n",
      "Learning rate = 0.01594\n",
      "Hidden neurons = 128\n",
      "\n",
      "MSE = 0.001309\n",
      "| \u001b[0m8        \u001b[0m | \u001b[0m-0.001309\u001b[0m | \u001b[0m7.852    \u001b[0m | \u001b[0m0.01594  \u001b[0m | \u001b[0m292.0    \u001b[0m | \u001b[0m0.2032   \u001b[0m | \u001b[0m0.7      \u001b[0m |\n",
      "Parameters:\n",
      "Train ratio = 0.6465\n",
      "Val ratio = 0.2165\n",
      "epochs = 279\n",
      "Learning rate = 0.09714\n",
      "Hidden neurons = 16\n",
      "\n",
      "MSE = 0.001341\n",
      "| \u001b[0m9        \u001b[0m | \u001b[0m-0.001341\u001b[0m | \u001b[0m4.054    \u001b[0m | \u001b[0m0.09714  \u001b[0m | \u001b[0m279.4    \u001b[0m | \u001b[0m0.8541   \u001b[0m | \u001b[0m0.6465   \u001b[0m |\n",
      "Parameters:\n",
      "Train ratio = 0.5498\n",
      "Val ratio = 0.06697\n",
      "epochs = 268\n",
      "Learning rate = 0.007639\n",
      "Hidden neurons = 128\n",
      "\n",
      "MSE = 0.001223\n",
      "| \u001b[0m10       \u001b[0m | \u001b[0m-0.001223\u001b[0m | \u001b[0m7.993    \u001b[0m | \u001b[0m0.007639 \u001b[0m | \u001b[0m268.4    \u001b[0m | \u001b[0m0.1912   \u001b[0m | \u001b[0m0.5498   \u001b[0m |\n",
      "Parameters:\n",
      "Train ratio = 0.5537\n",
      "Val ratio = 0.3291\n",
      "epochs = 262\n",
      "Learning rate = 0.04301\n",
      "Hidden neurons = 16\n",
      "\n",
      "MSE = 0.001291\n",
      "| \u001b[0m11       \u001b[0m | \u001b[0m-0.001291\u001b[0m | \u001b[0m4.049    \u001b[0m | \u001b[0m0.04301  \u001b[0m | \u001b[0m262.2    \u001b[0m | \u001b[0m0.9503   \u001b[0m | \u001b[0m0.5537   \u001b[0m |\n",
      "Parameters:\n",
      "Train ratio = 0.6592\n",
      "Val ratio = 0.208\n",
      "epochs = 272\n",
      "Learning rate = 0.005473\n",
      "Hidden neurons = 16\n",
      "\n",
      "MSE = 0.001412\n",
      "| \u001b[0m12       \u001b[0m | \u001b[0m-0.001412\u001b[0m | \u001b[0m4.019    \u001b[0m | \u001b[0m0.005473 \u001b[0m | \u001b[0m272.2    \u001b[0m | \u001b[0m0.8638   \u001b[0m | \u001b[0m0.6592   \u001b[0m |\n",
      "=====================================================================================\n",
      "{'target': -0.0012049702927470207, 'params': {'hidden_neurons': 4.202572240087932, 'learning_rate': 0.07904590622962773, 'num_epochs': 299.99947070215546, 'remaining_for_val_ratio': 0.2986114017035941, 'train_ratio': 0.44575315488986456}}\n"
     ]
    }
   ],
   "source": [
    "run_bayesian_optimization(get_data, preprocess_data)"
   ]
  },
  {
   "cell_type": "markdown",
   "metadata": {},
   "source": [
    "# Cross Validation"
   ]
  },
  {
   "cell_type": "code",
   "execution_count": 3,
   "metadata": {},
   "outputs": [
    {
     "name": "stdout",
     "output_type": "stream",
     "text": [
      "Loading dataframe from cache\n",
      "Loading preprocessed dataframe from cache\n"
     ]
    }
   ],
   "source": [
    "df = get_data()\n",
    "df, _ = preprocess_data(df)"
   ]
  },
  {
   "cell_type": "code",
   "execution_count": 6,
   "metadata": {},
   "outputs": [],
   "source": [
    "input_columns = ['DW_y', 'DW_z', 'SM_y', 'SM_z', 'CB_y', 'CB_z']\n",
    "target_columns = ['P3_y', 'P3_z']"
   ]
  },
  {
   "cell_type": "code",
   "execution_count": 8,
   "metadata": {},
   "outputs": [
    {
     "name": "stdout",
     "output_type": "stream",
     "text": [
      "Processing fold 1...\n",
      "Fold 1: R² = 0.9783, MSE = 0.0015\n",
      "Processing fold 2...\n",
      "Fold 2: R² = 0.9819, MSE = 0.0012\n",
      "Processing fold 3...\n",
      "Fold 3: R² = 0.9802, MSE = 0.0014\n",
      "Processing fold 4...\n",
      "Fold 4: R² = 0.9835, MSE = 0.0012\n",
      "Processing fold 5...\n",
      "Fold 5: R² = 0.9797, MSE = 0.0014\n",
      "\n",
      "Average R²: 0.9807, Average MSE: 0.0013\n"
     ]
    }
   ],
   "source": [
    "cross_validation(df, input_columns, target_columns)"
   ]
  },
  {
   "cell_type": "markdown",
   "metadata": {},
   "source": [
    "# Visualization"
   ]
  },
  {
   "cell_type": "code",
   "execution_count": 17,
   "metadata": {},
   "outputs": [],
   "source": [
    "input_columns = ['DW_y', 'DW_z', 'SM_y', 'SM_z', 'CB_y', 'CB_z']\n",
    "target_columns = ['P3_y', 'P3_z']\n",
    "\n",
    "plot_model(NeuralNet, input_features=input_columns, output_features=target_columns, hidden_neurons=32)"
   ]
  },
  {
   "cell_type": "code",
   "execution_count": 12,
   "metadata": {},
   "outputs": [
    {
     "name": "stdout",
     "output_type": "stream",
     "text": [
      "Accuracy of Predictions for P3 Model\n",
      "==================================================\n",
      "R² = 0.9818\n",
      "MSE = 0.0012\n",
      "==================================================\n"
     ]
    }
   ],
   "source": [
    "\n",
    "df, norm_params = preprocess_data(get_data())\n",
    "input_columns = ['DW_y', 'DW_z', 'SM_y', 'SM_z', 'CB_y', 'CB_z']\n",
    "target_columns = ['P3_y', 'P3_z']\n",
    "X_train, y_train, X_val, y_val, X_test, y_test, trial_lengths, health_shoe_params = train_test_split(\n",
    "    dataframe=df,\n",
    "    input_columns=input_columns,\n",
    "    target_columns=target_columns,\n",
    "    train_ratio=0.65,\n",
    "    val_ratio=0.25,\n",
    "    seed=0,\n",
    "    verbose=False\n",
    ")\n",
    "model = load_model(len(input_columns), len(target_columns), 'best_model.pth')\n",
    "plot_model_results_to_pdf(model, X_test, y_test, health_shoe_params, trial_lengths, norm_params, get_confidence_intervals, resample_array)"
   ]
  },
  {
   "cell_type": "code",
   "execution_count": null,
   "metadata": {},
   "outputs": [],
   "source": []
  }
 ],
 "metadata": {
  "kernelspec": {
   "display_name": "torch-gpu",
   "language": "python",
   "name": "python3"
  },
  "language_info": {
   "codemirror_mode": {
    "name": "ipython",
    "version": 3
   },
   "file_extension": ".py",
   "mimetype": "text/x-python",
   "name": "python",
   "nbconvert_exporter": "python",
   "pygments_lexer": "ipython3",
   "version": "3.8.16"
  }
 },
 "nbformat": 4,
 "nbformat_minor": 2
}
